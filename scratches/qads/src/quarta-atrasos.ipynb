{
 "cells": [
  {
   "cell_type": "code",
   "execution_count": null,
   "metadata": {},
   "outputs": [],
   "source": [
    "import voos\n",
    "import database\n",
    "import pandas as pd\n",
    "from tqdm import tqdm\n",
    "\n",
    "urls = list( voos.voos_url )[ :5 ]\n",
    "\n",
    "\n",
    "def download_voos( url ):\n",
    "\treturn pd.read_csv( url, skiprows = 1, sep = \";\" )\n",
    "\n",
    "\n",
    "voos = pd.DataFrame()\n",
    "for url in tqdm( urls ):\n",
    "\tparcial = download_voos( url )\n",
    "\n",
    "\tvoos = pd.concat( (parcial, voos), axis = 0 )\n"
   ]
  },
  {
   "cell_type": "code",
   "execution_count": null,
   "metadata": {
    "pycharm": {
     "name": "#%%\n"
    }
   },
   "outputs": [],
   "source": [
    "for data in [ \"Chegada Prevista\", \"Chegada Real\", \"Partida Prevista\", \"Partida Real\" ]:\n",
    "\tvoos[ data ] = pd.to_datetime( voos[ data ], infer_datetime_format = True )"
   ]
  },
  {
   "cell_type": "code",
   "execution_count": null,
   "metadata": {
    "pycharm": {
     "name": "#%%\n"
    }
   },
   "outputs": [],
   "source": [
    "voos[ \"ano\" ] = voos[ \"Partida Real\" ].dt.year\n",
    "voos[ \"mes\" ] = voos[ \"Partida Real\" ].dt.month\n",
    "voos[ \"semana_ano\" ] = voos[ \"Partida Real\" ].dt.week\n",
    "voos[ \"dia_semana\" ] = voos[ \"Partida Real\" ].dt.dayofweek\n",
    "\n",
    "voos[ \"atraso_chegada\" ] = (voos[ \"Chegada Real\" ] - voos[ \"Chegada Prevista\" ]).dt.seconds / 60\n",
    "voos[ \"atraso_saida\" ] = (voos[ \"Partida Real\" ] - voos[ \"Partida Prevista\" ]).dt.seconds / 60\n",
    "voos[ \"atraso_ajustado\" ] = voos[ \"atraso_chegada\" ] - voos[ \"atraso_saida\" ]\n",
    "voos[ \"atraso_chegada_abs\" ] = abs( voos[ \"atraso_chegada\" ] )\n",
    "voos[ \"atraso_saida_abs\" ] = abs( voos[ \"atraso_saida\" ] )\n",
    "voos[ \"atraso_ajustado_abs\" ] = abs( voos[ \"atraso_ajustado\" ] )"
   ]
  },
  {
   "cell_type": "code",
   "execution_count": null,
   "metadata": {
    "pycharm": {
     "name": "#%%\n"
    }
   },
   "outputs": [],
   "source": [
    "voos[ \"atraso_chegada\" ].plot( kind = \"hist\", bins = 100 )"
   ]
  },
  {
   "cell_type": "code",
   "execution_count": null,
   "metadata": {
    "pycharm": {
     "name": "#%%\n"
    }
   },
   "outputs": [],
   "source": [
    "voos[ \"duracao_real\" ] = (voos[ \"Chegada Real\" ] - voos[ \"Partida Real\" ]).dt.seconds / 60\n",
    "voos[ \"duracao_prevista\" ] = (voos[ \"Chegada Prevista\" ] - voos[ \"Partida Prevista\" ]).dt.seconds / 60"
   ]
  },
  {
   "cell_type": "code",
   "execution_count": null,
   "metadata": {
    "pycharm": {
     "name": "#%%\n"
    }
   },
   "outputs": [],
   "source": [
    "(voos.query( \"atraso_chegada > 0 & atraso_chegada < 240\" ).groupby( [ \"ano\", \"mes\" ] )\n",
    " .agg(\n",
    "\t\tpercentil_10 = (\"atraso_chegada\", lambda x: x.quantile( 0.10 )),\n",
    "\t\tpercentil_20 = (\"atraso_chegada\", lambda x: x.quantile( 0.20 )),\n",
    "\t\tpercentil_30 = (\"atraso_chegada\", lambda x: x.quantile( 0.30 )),\n",
    "\t\tpercentil_40 = (\"atraso_chegada\", lambda x: x.quantile( 0.40 )),\n",
    "\t\tpercentil_50 = (\"atraso_chegada\", lambda x: x.quantile( 0.50 )),\n",
    "\t\tpercentil_60 = (\"atraso_chegada\", lambda x: x.quantile( 0.60 )),\n",
    "\t\tpercentil_70 = (\"atraso_chegada\", lambda x: x.quantile( 0.70 )),\n",
    "\t\tpercentil_80 = (\"atraso_chegada\", lambda x: x.quantile( 0.80 )),\n",
    "\t\tpercentil_90 = (\"atraso_chegada\", lambda x: x.quantile( 0.90 )),\n",
    "\t\t)[ [ \"percentil_10\",\n",
    "             \"percentil_20\",\n",
    "             \"percentil_30\",\n",
    "             \"percentil_40\",\n",
    "             \"percentil_50\",\n",
    "             \"percentil_60\",\n",
    "             \"percentil_70\",\n",
    "             \"percentil_80\",\n",
    "             \"percentil_90\" ] ].sort_index( ascending = True ).plot( figsize = (20, 20) )\n",
    " )\n",
    "# Doideira : um salto gigantesco no tamanho dos atrasos_saida e chegada, mas ambos acompanham uns aos outros.\n",
    "# #Uma possivel explicação é a presença da olimpiada no mesmo ano /periodo em que vemos esse crescimento acentuado. No entanto, era de se esperar que passado esse evento, tudo se normalizasse, mas\n",
    "# não é o que observamos.\n"
   ]
  },
  {
   "cell_type": "code",
   "execution_count": null,
   "metadata": {
    "pycharm": {
     "name": "#%%\n"
    }
   },
   "outputs": [],
   "source": [
    "voos.query( \"atraso_chegada > 0\" ).groupby( [ \"ano\", \"mes\" ] )[ [ \"atraso_chegada\",\n",
    "                                                                  \"atraso_saida\" ] ].mean().sort_index( ascending = True ).plot()\n",
    "\n",
    "# Analisando somente os voos que atrasam, Vemos que a duração desses atrasos permanece razoavelmente constante. ao redor de 600 +- 100, Com excessão desse evento proximo a 2017-1"
   ]
  },
  {
   "cell_type": "code",
   "execution_count": null,
   "metadata": {
    "pycharm": {
     "name": "#%%\n"
    }
   },
   "outputs": [],
   "source": [
    "# Sera que os atrasos seguem algum tipo de padrão sazonal?\n",
    "\n",
    "voos.groupby( \"semana_ano\" ).mean()[ [ \"atraso_chegada\",\n",
    "                                       \"atraso_saida\" ] ].plot()\n",
    "\n",
    "# Temos um descolamento entre  chegada e saida ao redor da semana 40.\n",
    "\n",
    "# Nao estou vendo muito padrão nao. Talvez necessitamos de mais variaveis, ou talvez seja com o dia do mes / dia da semana.\n",
    "# Talvez durante a transição de horario de verão?"
   ]
  },
  {
   "cell_type": "code",
   "execution_count": null,
   "metadata": {
    "pycharm": {
     "name": "#%%\n"
    }
   },
   "outputs": [],
   "source": [
    "voos.query( \"atraso_chegada > 0 \" ).groupby( \"dia_semana\" ).median()[ [ \"atraso_chegada\",\n",
    "                                                                        \"atraso_saida\" ] ].plot()\n",
    "\n",
    "# Parece haver um efeito sazonal do dia da semana no que diz respeito aos atrasos.\n",
    "# Peak atrasos ~ (terca )\n",
    "# Menor ~ ( quinta)"
   ]
  },
  {
   "cell_type": "code",
   "execution_count": null,
   "metadata": {
    "pycharm": {
     "name": "#%%\n"
    }
   },
   "outputs": [],
   "source": [
    "\n",
    "ids_linhas = ['N' , 'E' , 'R']\n",
    "ids_dis = [ '0' , '4' , 'C']\n",
    "\n",
    "voos.rename( {\n",
    "\t\t'Código Tipo Linha' : 'id_tipo_linha',\n",
    "\t\t'Código Autorização (DI)' : 'cd_di'\n",
    "\t\t} , axis = 1)\\\n",
    "\t.query('id_tipo_linha in @ids_linhas')\\\n",
    "\t.query('cd_di in @ids_dis')\\\n",
    "\n",
    "\n",
    "# Filtrando apenas pelos municípios de SP e RJ, vemos que existem algumas empresas que nem conhecemos, bem como aeroportos que não conhecemos.\n",
    "\n",
    "# Um filtro que faremos daqui em diante vai ser filtrar apenas voos de passageiros.\n",
    "# Isso signfica apenas os códigos ( N , I, E , R).\n",
    "\n",
    "# Um segundo filtro diz respeito aos voos internacionais: Não consideramos eles.\n",
    "# Isso inviabiliza os voos com código I.\n",
    "\n",
    "# Portanto consideramos apenas os códigos ( N , E , R )\n"
   ]
  },
  {
   "cell_type": "code",
   "execution_count": null,
   "metadata": {
    "pycharm": {
     "name": "#%%\n"
    }
   },
   "outputs": [],
   "source": [
    "# Outra dimensão a ser considerada é o Digito Identificador.\n",
    "# Ele diz respeito ao tipo de voo realizado. Podem ser dos seguintes tipos:\n",
    "# Regular, Improdutivo, Não regular.\n",
    "# Nesta analise consideraremos apenas os voos regulares.\n",
    "# Estes são sinalizados com cd_di pertencente à ( 0 , 4 , C)"
   ]
  },
  {
   "cell_type": "code",
   "execution_count": null,
   "metadata": {
    "pycharm": {
     "name": "#%%\n"
    }
   },
   "outputs": [],
   "source": [
    "# Outro ponto a ser considerado é a situação do voo.\n",
    "# Consideraremos apenas os voos Realizados"
   ]
  },
  {
   "cell_type": "code",
   "execution_count": null,
   "metadata": {
    "pycharm": {
     "name": "#%%\n"
    }
   },
   "outputs": [],
   "source": [
    "# Correlação de atrasos com outras features\n",
    "# Algum aeroporto atrasa mais que os outros? Isso pode ser causado pelo clima do aeroporto ou pela movimentação daquele aeroporto\n",
    "# Horario do dia. ( Período manhã / tarde / noite )\n",
    "# Sera que algum voo atrasa mais?\n",
    "# Alguma companhia aerea?\n",
    "\n",
    "# Lotação?\n",
    "\n",
    "\n",
    "voos.columns"
   ]
  }
 ],
 "metadata": {
  "kernelspec": {
   "display_name": "Python 3",
   "language": "python",
   "name": "python3"
  },
  "language_info": {
   "codemirror_mode": {
    "name": "ipython",
    "version": 2
   },
   "file_extension": ".py",
   "mimetype": "text/x-python",
   "name": "python",
   "nbconvert_exporter": "python",
   "pygments_lexer": "ipython2",
   "version": "2.7.6"
  }
 },
 "nbformat": 4,
 "nbformat_minor": 0
}
