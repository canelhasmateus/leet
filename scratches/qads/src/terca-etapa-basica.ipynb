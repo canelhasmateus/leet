{
 "cells": [
  {
   "cell_type": "code",
   "execution_count": null,
   "metadata": {},
   "outputs": [],
   "source": [
    "import pandas as pd\n",
    "from tqdm import tqdm\n",
    "\n",
    "microdados = pd.DataFrame()\n",
    "\n",
    "urls = [ ]\n",
    "for year in range( 2020, 2020 + 1 ):\n",
    "\tfor month in range( 1, 12 + 1 ):\n",
    "\t\tmonth = str( month ) if month >= 10 else \"0\" + str( month )\n",
    "\t\turl = f\"https://www.gov.br/anac/pt-br/assuntos/regulados/empresas-aereas/envio-de-informacoes/microdados/basica{year}-{month}.zip\"\n",
    "\t\turls.append( url )\n",
    "\n",
    "for url in tqdm( urls ):\n",
    "\tparcial = pd.read_csv( url, encoding = \"latin1\", sep = \";\" ).sample( frac = 0.05, random_state = 2 )\n",
    "\tmicrodados = pd.concat( [ microdados, parcial ], axis = 0 )\n",
    "\n",
    "url_est = 'https://www.gov.br/anac/pt-br/assuntos/dados-e-estatisticas/dados-estatisticos/arquivos/resumo_anual_2010.csv'\n"
   ]
  },
  {
   "cell_type": "code",
   "execution_count": null,
   "metadata": {
    "pycharm": {
     "name": "#%%\n"
    }
   },
   "outputs": [],
   "source": []
  },
  {
   "cell_type": "code",
   "execution_count": null,
   "metadata": {
    "pycharm": {
     "name": "#%%\n"
    }
   },
   "outputs": [],
   "source": [
    "# Da definição:\n",
    "\n",
    "# Etapa Básica (flight stage): As etapas básicas são aquelas realizadas pela aeronave desde a sua decolagem até o próximo pouso, independentemente de onde tenha ocorrido o embarque ou o desembarque do objeto de transporte.\n",
    "#\n",
    "# Os dados estatísticos das etapas básicas representam o status da aeronave em cada etapa do voo, apresentando a movimentação de cargas e passageiros entre os aeródromos de origem e destino da aeronave. É a operação de uma aeronave entre um a decolagem e o próximo pouso, a ligação entre dois aeródromos.\n",
    "\n",
    "# Etapa Combinada (On flight origin and destination - OFOD): As etapas combinadas identificam os pares de origem, onde ocorreu o embarque do objeto de transporte, e destino, onde ocorreu o desembarque do objeto de transporte, independentemente da existência de aeródromos intermediários, atendidos por determinado voo.\n",
    "\n",
    "# É a etapa de voo vista com foco no objeto de transporte (pessoas e/ou cargas), com base no embarque e no desembarque nos aeródromos relacionados. Os dados estatísticos da etapa combinada informam a origem e destino dos passageiros e cargas transportadas no voo, independentemente das escalas realizadas.\n",
    "\n",
    "\n",
    "#Aqui olharemos primeiramente para a etapa basica."
   ]
  },
  {
   "cell_type": "code",
   "execution_count": null,
   "metadata": {
    "pycharm": {
     "name": "#%%\n"
    }
   },
   "outputs": [],
   "source": [
    "microdados.duplicated( [ \"id_basica\" ] ).sum()\n",
    "# de Fato, id basica é uma pk ( identificador unico ) nessa tabela, e não temos nenhum registro duplicado!"
   ]
  },
  {
   "cell_type": "code",
   "execution_count": null,
   "metadata": {
    "pycharm": {
     "name": "#%%\n"
    }
   },
   "outputs": [],
   "source": [
    "(microdados.isna().sum( axis = 0 ) / microdados.shape[ 0 ]).sort_values( ascending = False )\n",
    "\n",
    "# nr escala destino é 100% nulo. Doideira ( Isso provavelmente é algum tipo de informação que foi dropada ao longo do tempo. )"
   ]
  },
  {
   "cell_type": "code",
   "execution_count": null,
   "metadata": {
    "pycharm": {
     "name": "#%%\n"
    }
   },
   "outputs": [],
   "source": [
    "\n",
    "unique = microdados.nm_empresa.value_counts()\n",
    "cumulative = unique.cumsum()\n",
    "cumulative = cumulative / unique.sum()\n",
    "cumulative.sort_values( ascending = True ).iloc[ :15 ].plot( kind = \"bar\" )\n",
    "\n",
    "# Nenhuma surpresa aqui: a gigantesca maioria das etapas é realizada por poucas empresas\n",
    "# Aprox. 80% das etapas é feita por apenas 3;\n",
    "#"
   ]
  },
  {
   "cell_type": "code",
   "execution_count": null,
   "metadata": {
    "pycharm": {
     "name": "#%%\n"
    }
   },
   "outputs": [],
   "source": [
    "microdados.groupby( [ \"nr_mes_referencia\", \"nm_mes_referencia\" ] ).count()[ \"id_basica\" ].sort_index( ascending = True ).plot( kind = \"bar\" )"
   ]
  },
  {
   "cell_type": "code",
   "execution_count": null,
   "metadata": {
    "pycharm": {
     "name": "#%%\n"
    }
   },
   "outputs": [],
   "source": [
    "microdados[ \"nr_dia_semana_referencia\" ] = pd.to_datetime( microdados[ \"dt_referencia\" ], infer_datetime_format = True ).dt.dayofweek\n",
    "\n",
    "microdados.groupby( [ \"nr_dia_semana_referencia\", \"nm_dia_semana_referencia\" ] ).count()[ \"id_basica\" ].sort_index( ascending = True ).plot( kind = \"bar\" )\n",
    "\n",
    "# Aqui temos uma surpresa: Fim de semanas são dias com menos voos? Interessante. [quinta, sexta, segunda, quarta, terca ] são dias de ocupação bem proxima."
   ]
  },
  {
   "cell_type": "markdown",
   "metadata": {
    "collapsed": false
   },
   "source": []
  },
  {
   "cell_type": "markdown",
   "metadata": {
    "collapsed": false
   },
   "source": []
  },
  {
   "cell_type": "code",
   "execution_count": null,
   "metadata": {
    "pycharm": {
     "name": "#%%\n"
    }
   },
   "outputs": [],
   "source": [
    "microdados.query( \"nm_pais != 'BRASIL'\" ).groupby( \"nm_pais\" ).nunique()[ \"nm_empresa\" ].nlargest( 10 ).plot( kind = \"bar\" )\n",
    "# Essas são as nacionalidades das empresas não brasileiras dentro do dataset. USA domina, seguido de argentina, chile, venezuela"
   ]
  },
  {
   "cell_type": "code",
   "execution_count": null,
   "metadata": {
    "pycharm": {
     "name": "#%%\n"
    }
   },
   "outputs": [],
   "source": [
    "microdados.groupby( [ \"nm_municipio_destino\", \"nm_municipio_origem\", \"nm_empresa\" ] ).nunique()"
   ]
  },
  {
   "cell_type": "code",
   "execution_count": null,
   "metadata": {
    "pycharm": {
     "name": "#%%\n"
    }
   },
   "outputs": [],
   "source": [
    "microdados.value_counts( \"nr_voo\" )\n",
    "# O numero de voo mais comum é 2317 , seguido de 2316, seguido de 248, 15 e 247\n",
    "# Os menos comuns tem apenas 1 e são : 2263 , 6565, 595, 6566 , 593\n",
    "# Atente-se à amostragem"
   ]
  },
  {
   "cell_type": "markdown",
   "metadata": {
    "collapsed": false
   },
   "source": []
  },
  {
   "cell_type": "code",
   "execution_count": null,
   "metadata": {
    "pycharm": {
     "name": "#%%\n"
    }
   },
   "outputs": [],
   "source": []
  },
  {
   "cell_type": "code",
   "execution_count": null,
   "metadata": {
    "pycharm": {
     "name": "#%%\n"
    }
   },
   "outputs": [],
   "source": [
    "microdados.query( \"nr_voo == 2317\" )[ [ \"nm_empresa\", \"nr_voo\", \"nr_singular\", \"id_di\", \"nm_municipio_destino\", \"nm_municipio_origem\", \"dt_referencia\" ] ]\n",
    "# O que identifica uma rota ( ORIGEM - DESTINO )  de maneira unica?!"
   ]
  },
  {
   "cell_type": "markdown",
   "metadata": {
    "collapsed": false
   },
   "source": []
  },
  {
   "cell_type": "code",
   "execution_count": null,
   "metadata": {
    "pycharm": {
     "name": "#%%\n"
    }
   },
   "outputs": [],
   "source": [
    "microdados[\"dt_referencia\"] = pd.to_datetime(microdados.dt_referencia , infer_datetime_format = True)"
   ]
  },
  {
   "cell_type": "code",
   "execution_count": null,
   "metadata": {
    "pycharm": {
     "name": "#%%\n"
    }
   },
   "outputs": [],
   "source": [
    "microdados.groupby( [ \"nr_ano_referencia\", \"nr_mes_referencia\" ]).mean()[[\"nr_ask\",\n",
    "\t\t\t\t\t\t\t\t\t\t\t\t\t\t\t\t\t\t  \"nr_rpk\",\n",
    "\t\t\t\t\t\t\t\t\t\t\t\t\t\t\t\t\t\t  \"nr_atk\",\n",
    "\t\t\t\t\t\t\t\t\t\t\t\t\t\t\t\t\t\t  \"nr_rtk\",\n",
    "\t\t\t\t\t\t\t\t\t\t\t\t\t\t\t\t\t\t  \"kg_peso\"]].sort_index( ascending = True ).plot(  )"
   ]
  },
  {
   "cell_type": "code",
   "execution_count": null,
   "metadata": {
    "pycharm": {
     "name": "#%%\n"
    }
   },
   "outputs": [],
   "source": []
  }
 ],
 "metadata": {
  "kernelspec": {
   "display_name": "Python 3",
   "language": "python",
   "name": "python3"
  },
  "language_info": {
   "codemirror_mode": {
    "name": "ipython",
    "version": 2
   },
   "file_extension": ".py",
   "mimetype": "text/x-python",
   "name": "python",
   "nbconvert_exporter": "python",
   "pygments_lexer": "ipython2",
   "version": "2.7.6"
  }
 },
 "nbformat": 4,
 "nbformat_minor": 0
}