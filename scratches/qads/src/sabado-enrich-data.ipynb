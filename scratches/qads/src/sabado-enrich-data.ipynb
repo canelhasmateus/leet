{
 "cells": [
  {
   "cell_type": "code",
   "execution_count": null,
   "metadata": {
    "pycharm": {
     "name": "#%%\n"
    }
   },
   "outputs": [],
   "source": [
    "import matplotlib.pyplot as plt\n",
    "import pandas as pd\n",
    "\n",
    "import database\n",
    "\n",
    "voos = pd.read_sql( '''\n",
    "select * from voos_sp_sj\n",
    "where dt_partida_prevista >= '2017-12-30 00:00:00'\n",
    "order by dt_partida_prevista''', database.engine )"
   ]
  },
  {
   "cell_type": "code",
   "execution_count": null,
   "metadata": {
    "pycharm": {
     "name": "#%%\n"
    }
   },
   "outputs": [],
   "source": [
    "\n",
    "clima = pd.read_sql( \"\"\"\n",
    "\n",
    "with\n",
    "\tmappings as (\n",
    "\tselect *\n",
    "\t\tfrom\n",
    "\t\t\taero_ponto_coleta\n",
    "\t\twhere\n",
    "\t\t\texists(\n",
    "\t\t\t\tselect\n",
    "\t\t\t\t\t1\n",
    "\t\t\t\t\tfrom\n",
    "\t\t\t\t\t\tvoos_sp_sj voos\n",
    "\t\t\t\t\twhere\n",
    "\t\t\t\t\t\tvoos.id_aerodromo_origem = aero_ponto_coleta.id_aerodromo\n",
    "\t\t\t\t)\n",
    "\n",
    "\n",
    "\t)\n",
    "  , resumo_clima as (\n",
    "                    select\n",
    "\t                    ponto_id\n",
    "\t                  , date( dt_clima ) + interval 1 day as dt_clima\n",
    "\t                  , id_aerodromo\n",
    "\t                  , sum( precipitacao_total )         as precipitacao_total\n",
    "\t                  , avg( temperatura_ar )             as temperatura_ar\n",
    "\t                  , avg( vento_rajada_maxima )        as vento_rajada_maxima\n",
    "\t                    from\n",
    "\t\t                    clima\n",
    "\t\t                    inner join mappings using ( ponto_id )\n",
    "\t                    group by\n",
    "\t\t                    ponto_id\n",
    "\t\t                  , date( dt_clima )\n",
    "                    )\n",
    "\n",
    "select * from resumo_clima\n",
    "                    \"\"\", database.engine )"
   ]
  },
  {
   "cell_type": "code",
   "execution_count": null,
   "metadata": {
    "pycharm": {
     "name": "#%%\n"
    }
   },
   "outputs": [],
   "source": []
  },
  {
   "cell_type": "code",
   "execution_count": null,
   "metadata": {
    "pycharm": {
     "name": "#%%\n"
    }
   },
   "outputs": [],
   "source": [
    "clima[ \"dt_clima\" ] = pd.to_datetime( clima[ \"dt_clima\" ] )\n",
    "voos[ \"dt_referencia\" ] = voos[ \"dt_partida_prevista\" ].dt.floor( 'D' )\n",
    "voos[ \"atrasado\" ] = ((voos[ \"dt_chegada_real\" ] - voos[ \"dt_chegada_prevista\" ]).dt.seconds / 60) >= 20"
   ]
  },
  {
   "cell_type": "code",
   "execution_count": null,
   "metadata": {
    "pycharm": {
     "name": "#%%\n"
    }
   },
   "outputs": [],
   "source": [
    "df = voos.merge( clima, left_on = [ \"id_aerodromo_origem\", \"dt_referencia\" ], right_on = [ \"id_aerodromo\", \"dt_clima\" ], how = \"left\" )\n",
    "df"
   ]
  },
  {
   "cell_type": "code",
   "execution_count": null,
   "metadata": {
    "pycharm": {
     "name": "#%%\n"
    }
   },
   "outputs": [],
   "source": [
    "df = df[ [ \"atrasado\", \"id_aerodromo_origem\", \"id_aerodromo_destino\", \"id_empresa\", \"dt_referencia\", \"precipitacao_total\", \"temperatura_ar\", \"vento_rajada_maxima\" ] ]\n",
    "df"
   ]
  },
  {
   "cell_type": "code",
   "execution_count": null,
   "metadata": {
    "pycharm": {
     "name": "#%%\n"
    }
   },
   "outputs": [],
   "source": [
    "df = df.sort_values( \"dt_referencia\" ).groupby( \"id_aerodromo_origem\", as_index = False ).fillna( method = \"ffill\" )"
   ]
  },
  {
   "cell_type": "code",
   "execution_count": null,
   "metadata": {
    "pycharm": {
     "name": "#%%\n"
    }
   },
   "outputs": [],
   "source": [
    "df[ \"dia_semana\" ] = df[ \"dt_referencia\" ].dt.dayofweek\n",
    "df[ \"semana_ano\" ] = df[ \"dt_referencia\" ].dt.weekofyear\n",
    "for column in [ \"precipitacao_total\", \"temperatura_ar\", \"vento_rajada_maxima\" ]:\n",
    "\tdf[ column ] = df[ column ].fillna( df[ column ].mean() )\n",
    "df"
   ]
  },
  {
   "cell_type": "code",
   "execution_count": null,
   "metadata": {
    "pycharm": {
     "name": "#%%\n"
    }
   },
   "outputs": [],
   "source": [
    "\n",
    "from sklearn.model_selection import train_test_split\n",
    "\n",
    "categoricas = [ \"id_empresa\",\n",
    "                \"id_aerodromo_origem\",\n",
    "                \"id_aerodromo_destino\",\n",
    "                \"dia_semana\",\n",
    "                \"semana_ano\" ]\n",
    "numericas = [ \"precipitacao_total\", \"temperatura_ar\", \"vento_rajada_maxima\" ]\n",
    "train_columns = [ ]\n",
    "train_columns.extend( categoricas )\n",
    "train_columns.extend( numericas )\n",
    "\n",
    "df_y = df[ [ \"atrasado\" ] ]\n",
    "df_x = df[ train_columns ]\n",
    "\n",
    "df_train_x, df_test_x, df_train_y, df_test_y = train_test_split( df_x, df_y, train_size = 0.8, stratify = df_y )"
   ]
  },
  {
   "cell_type": "code",
   "execution_count": null,
   "metadata": {
    "pycharm": {
     "name": "#%%\n"
    }
   },
   "outputs": [],
   "source": [
    "from category_encoders import TargetEncoder\n",
    "\n",
    "encoder = TargetEncoder(\n",
    "\t\tcols = categoricas,\n",
    "\t\thandle_unknown = 'value' ).fit( df_train_x, df_train_y )\n",
    "\n",
    "df_train_x = encoder.transform( df_train_x )\n",
    "df_test_x = encoder.transform( df_test_x )"
   ]
  },
  {
   "cell_type": "code",
   "execution_count": null,
   "metadata": {
    "pycharm": {
     "name": "#%%\n"
    }
   },
   "outputs": [],
   "source": [
    "\n",
    "from sklearn.linear_model import LogisticRegression\n",
    "from sklearn.ensemble import RandomForestClassifier\n",
    "\n",
    "forest: RandomForestClassifier = RandomForestClassifier( max_depth = 4, random_state = 1, )\n",
    "forest: RandomForestClassifier = forest.fit( df_train_x, df_train_y )\n",
    "\n",
    "reg: LogisticRegression = LogisticRegression()\n",
    "reg.fit( df_train_x, df_train_y )\n",
    "df_predict_train = forest.predict_proba( df_train_x )[ :, 1 ]\n",
    "df_predict_test = forest.predict_proba( df_test_x )[ :, 1 ]"
   ]
  },
  {
   "cell_type": "code",
   "execution_count": null,
   "metadata": {
    "pycharm": {
     "name": "#%%\n"
    }
   },
   "outputs": [],
   "source": []
  },
  {
   "cell_type": "code",
   "execution_count": null,
   "metadata": {
    "pycharm": {
     "name": "#%%\n"
    }
   },
   "outputs": [],
   "source": [
    "\n",
    "from sklearn.metrics import accuracy_score, precision_score, roc_auc_score, f1_score\n",
    "\n",
    "print( \"training accuracy_score: \", accuracy_score( df_train_y, df_predict_train > 0.5 ) )\n",
    "print( \"training precision_score: \", precision_score( df_train_y, df_predict_train > 0.5 ) )\n",
    "print( \"training f1_score: \", f1_score( df_train_y, df_predict_train > 0.5 ) )\n",
    "print( \"training roc_auc_score: \", roc_auc_score( df_train_y, df_predict_train ) )\n",
    "# print()\n",
    "print( \"testing accuracy_score: \", accuracy_score( df_test_y, df_predict_test > 0.5 ) )\n",
    "print( \"testing precision_score: \", precision_score( df_test_y, df_predict_test > 0.5 ) )\n",
    "print( \"testing f1_score: \", f1_score( df_test_y, df_predict_test > 0.5 ) )\n",
    "print( \"testing roc_auc_score: \", roc_auc_score( df_test_y, df_predict_test ) )\n"
   ]
  },
  {
   "cell_type": "code",
   "execution_count": null,
   "metadata": {
    "pycharm": {
     "name": "#%%\n"
    }
   },
   "outputs": [],
   "source": []
  },
  {
   "cell_type": "code",
   "execution_count": null,
   "metadata": {
    "pycharm": {
     "name": "#%%\n"
    }
   },
   "outputs": [],
   "source": [
    "from sklearn.calibration import calibration_curve\n",
    "\n",
    "cal_x, cal_y = calibration_curve( df_train_y, df_predict_train, normalize = True )\n",
    "print( cal_x, cal_y )"
   ]
  },
  {
   "cell_type": "markdown",
   "metadata": {
    "collapsed": false
   },
   "source": []
  },
  {
   "cell_type": "code",
   "execution_count": null,
   "metadata": {
    "pycharm": {
     "name": "#%%\n"
    }
   },
   "outputs": [],
   "source": []
  },
  {
   "cell_type": "code",
   "execution_count": null,
   "metadata": {
    "pycharm": {
     "name": "#%%\n"
    }
   },
   "outputs": [],
   "source": [
    "from sklearn.metrics import plot_roc_curve, plot_precision_recall_curve, plot_confusion_matrix\n",
    "import numpy as np\n",
    "\n",
    "dig, ax = plt.subplots( figsize = (20, 20) )\n",
    "ax.plot( [ 0, 1 ], [ 0, 1 ] )\n",
    "\n",
    "\n",
    "class Proxy:\n",
    "\n",
    "\tdef __init__( self, model ):\n",
    "\t\tself.model = model\n",
    "\t\tself._estimator_type = model._estimator_type\n",
    "\t\tself.classes_ = model.classes_\n",
    "\n",
    "\tdef predict_proba( self, x ):\n",
    "\t\treturn np.sqrt( self.model.predict_proba( x ) )\n",
    "\n",
    "\n",
    "plot_roc_curve( forest, df_train_x, df_train_y, ax = ax )\n",
    "plot_roc_curve( reg, df_train_x, df_train_y, ax = ax )"
   ]
  },
  {
   "cell_type": "code",
   "execution_count": null,
   "metadata": {
    "pycharm": {
     "name": "#%%\n"
    }
   },
   "outputs": [],
   "source": []
  },
  {
   "cell_type": "markdown",
   "metadata": {
    "collapsed": false
   },
   "source": [
    "plot_"
   ]
  },
  {
   "cell_type": "code",
   "execution_count": null,
   "metadata": {
    "pycharm": {
     "name": "#%%\n"
    }
   },
   "outputs": [],
   "source": [
    "dig, ax = plt.subplots()\n",
    "ax.plot()\n",
    "plot_precision_recall_curve( forest, df_train_x, df_train_y, ax = ax )\n",
    "plot_precision_recall_curve( reg, df_train_x, df_train_y, ax = ax )"
   ]
  },
  {
   "cell_type": "code",
   "execution_count": null,
   "metadata": {
    "pycharm": {
     "name": "#%%\n"
    }
   },
   "outputs": [],
   "source": [
    "plot_confusion_matrix( forest, df_train_x, df_train_y, cmap = \"Blues\" )"
   ]
  }
 ],
 "metadata": {
  "kernelspec": {
   "display_name": "Python 3",
   "language": "python",
   "name": "python3"
  },
  "language_info": {
   "codemirror_mode": {
    "name": "ipython",
    "version": 2
   },
   "file_extension": ".py",
   "mimetype": "text/x-python",
   "name": "python",
   "nbconvert_exporter": "python",
   "pygments_lexer": "ipython2",
   "version": "2.7.6"
  }
 },
 "nbformat": 4,
 "nbformat_minor": 0
}
