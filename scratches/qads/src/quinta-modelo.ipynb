{
 "cells": [
  {
   "cell_type": "code",
   "execution_count": null,
   "metadata": {
    "pycharm": {
     "name": "#%%\n"
    }
   },
   "outputs": [],
   "source": [
    "import database\n",
    "import pandas as pd\n",
    "\n",
    "voos = pd.read_sql( 'select * from voos_sp_sj order by dt_partida_prevista', database.engine )\n",
    "clima = pd.read_sql()"
   ]
  },
  {
   "cell_type": "code",
   "execution_count": null,
   "metadata": {
    "pycharm": {
     "name": "#%%\n"
    }
   },
   "outputs": [],
   "source": []
  },
  {
   "cell_type": "code",
   "execution_count": null,
   "metadata": {
    "pycharm": {
     "name": "#%%\n"
    }
   },
   "outputs": [],
   "source": []
  },
  {
   "cell_type": "code",
   "execution_count": null,
   "metadata": {
    "pycharm": {
     "name": "#%%\n"
    }
   },
   "outputs": [],
   "source": [
    "\n",
    "voos[ \"atrasos_partida\" ] = (voos[ \"dt_partida_prevista\" ] - voos[ \"dt_partida_real\" ]).dt.seconds / 60\n",
    "voos[ \"atrasos_chegada\" ] = (voos[ \"dt_chegada_prevista\" ] - voos[ \"dt_chegada_real\" ]).dt.seconds / 60\n",
    "voos[[\"atrasos_chegada\" , \"atrasos_partida\"]].min()\n",
    "# Estaremos preocupados apenas em prever os atrasos de partida.\n",
    "# Um caso estranho que vemos aqui é que tanto atrasos_chegada e atrasos_partida tem um valor de minimo == 0.\n",
    "# Não seria de se esperar que houvessem chegadas e partidas adiantadas?"
   ]
  },
  {
   "cell_type": "code",
   "execution_count": null,
   "metadata": {
    "pycharm": {
     "name": "#%%\n"
    }
   },
   "outputs": [],
   "source": [
    "voos.query(\"atrasos_partida < 240\")[ \"atrasos_partida\" ].plot( kind = 'hist', bins = 100, normalized = True )"
   ]
  },
  {
   "cell_type": "code",
   "execution_count": null,
   "metadata": {
    "pycharm": {
     "name": "#%%\n"
    }
   },
   "outputs": [],
   "source": []
  },
  {
   "cell_type": "code",
   "execution_count": null,
   "metadata": {
    "pycharm": {
     "name": "#%%\n"
    }
   },
   "outputs": [],
   "source": [
    "# E se, ao invés de calcular a quantidade em minutos do atraso,\n",
    "# Calculássemos a prob. da saída atrasar mais do que N minutos?\n",
    "# Do histograma, parece haver um threshold forte ao redor\n",
    "# Dos 20 minutos. Podemos usar 20m como um valor de N.\n",
    "\n",
    "# Mudança da definição de Regressão para Classificação.\n",
    "\n",
    "# Iremos predizer a probabilidade de um voos Domesticos regulares de Passageiros ,\n",
    "# Ter um atraso de saída maior do que 20 minutos.\n",
    "\n",
    "# Durante a apresentação, podemos ilustrar as justificativas para essa decisão,\n",
    "# Em particular, o porque de 20 minutos,\n",
    "# E, porque o atraso da saída ( ao invés do de entrada ).\n",
    "\n",
    "voos.query( \"atrasos_partida < 0\" ).count()"
   ]
  },
  {
   "cell_type": "code",
   "execution_count": null,
   "metadata": {
    "pycharm": {
     "name": "#%%\n"
    }
   },
   "outputs": [],
   "source": [
    "# Consideraremos como baseline um modelo que sempre prevê que o vôo não atrasa.\n",
    "\n",
    "voos[ \"atrasado\" ] = voos[ \"atrasos_partida\" ] >= 20\n",
    "voos[ \"atrasado_previsto\" ] = 0"
   ]
  },
  {
   "cell_type": "code",
   "execution_count": null,
   "metadata": {
    "pycharm": {
     "name": "#%%\n"
    }
   },
   "outputs": [],
   "source": [
    "# Um ponto interessante de se considerar é a metrica utilizada para\n",
    "# 'scorar' o modelo.\n",
    "# Acuracia vs F1 vs Precisao são algumas possibilidades,\n",
    "# E todas tem uma interpretação levemente diferente.\n",
    "\n",
    "# Se pensarmos nas 4 possibilidades, vulgo:\n",
    "# Dizemos que atrasa, mas ele não atrasa ( Falso positivo )\n",
    "# Dizemos que atrasa, e de fato atrasa ( Verdadeiro Positivo)\n",
    "# não Dizemos que atrasa, e ele atrasa ( Falso negativo)\n",
    "# não Dizemos que atrasa, e ele não atrasa (Verdadeiro Negativo).\n",
    "\n",
    "# Vamos pensar na idéia de enviar um ( push | email ) para o cliente, caso acharmos que o voo dele irá atrasar.\n",
    "# Nesse caso,\n",
    "# Falsos positivos são PÉSSIMOS. ( 1000x )\n",
    "# Verdadeiros positivos são Bons. ( 100x )\n",
    "# Falsos negativos é regular ( 1x )\n",
    "# Verdadeiro positivo é regular ( 1 x )\n",
    "from sklearn.metrics import accuracy_score\n",
    "\n",
    "accuracy_score( voos[\"atrasado\"] , voos[\"atrasado_previsto\"])"
   ]
  },
  {
   "cell_type": "code",
   "execution_count": null,
   "metadata": {
    "pycharm": {
     "name": "#%%\n"
    }
   },
   "outputs": [],
   "source": [
    "error"
   ]
  }
 ],
 "metadata": {
  "kernelspec": {
   "display_name": "Python 3",
   "language": "python",
   "name": "python3"
  },
  "language_info": {
   "codemirror_mode": {
    "name": "ipython",
    "version": 2
   },
   "file_extension": ".py",
   "mimetype": "text/x-python",
   "name": "python",
   "nbconvert_exporter": "python",
   "pygments_lexer": "ipython2",
   "version": "2.7.6"
  }
 },
 "nbformat": 4,
 "nbformat_minor": 0
}
